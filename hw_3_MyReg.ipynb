{
  "nbformat": 4,
  "nbformat_minor": 0,
  "metadata": {
    "colab": {
      "name": "MyLinReg.ipynb",
      "provenance": [],
      "collapsed_sections": []
    },
    "kernelspec": {
      "name": "python3",
      "display_name": "Python 3"
    },
    "language_info": {
      "name": "python"
    }
  },
  "cells": [
    {
      "cell_type": "markdown",
      "source": [
        "# Load Libraries and Data"
      ],
      "metadata": {
        "id": "VrFUHfGc8YD9"
      }
    },
    {
      "cell_type": "code",
      "source": [
        "import numpy as np\n",
        "from sklearn.datasets import fetch_california_housing\n",
        "from sklearn.model_selection import train_test_split\n",
        "from sklearn.preprocessing import StandardScaler\n",
        "from sklearn.linear_model import LinearRegression, Ridge, LogisticRegression "
      ],
      "metadata": {
        "id": "WD_a8z0GLEyX"
      },
      "execution_count": 241,
      "outputs": []
    },
    {
      "cell_type": "code",
      "source": [
        "housing = fetch_california_housing()\n",
        "data = housing[\"data\"][:1000, :]\n",
        "labels = housing[\"target\"][:1000].reshape(-1, 1)\n",
        "\n",
        "transformer = StandardScaler().fit(data)\n",
        "data = transformer.transform(data)\n",
        "\n",
        "X_train, X_test, y_train, y_test = train_test_split(data, labels, train_size=0.8)"
      ],
      "metadata": {
        "id": "JqQ-I_y2LgWu"
      },
      "execution_count": 242,
      "outputs": []
    },
    {
      "cell_type": "code",
      "source": [
        "import matplotlib.pyplot as plt\n",
        "plt.rcParams[\"figure.figsize\"] = (16, 8)\n",
        "\n",
        "def show_loss_function(epochs, loss_func_values):\n",
        "  plt.plot(epochs, loss_func_values)\n",
        "  plt.xlabel(\"Number of epoch\")\n",
        "  plt.ylabel(\"Loss function value\")\n",
        "  plt.title(\"Loss function progress\")\n",
        "  None"
      ],
      "metadata": {
        "id": "sUD8pnr8wr-E"
      },
      "execution_count": 243,
      "outputs": []
    },
    {
      "cell_type": "markdown",
      "source": [
        "# Basic Linear Regression implementation"
      ],
      "metadata": {
        "id": "nPl2S8XW66OE"
      }
    },
    {
      "cell_type": "code",
      "source": [
        "from zlib import error\n",
        "\n",
        "class MyLinearRegression:\n",
        "  def __init__(self, lr=10e-8, n_iter=1, batch_size=1, thresh_to_stop=10e-3):\n",
        "    self.lr = lr\n",
        "    self.n_iter = n_iter\n",
        "    self.batch_size = batch_size\n",
        "    self.weights = None\n",
        "    self.bias = None\n",
        "    self.init_weights = False\n",
        "    self.thresh_to_stop = thresh_to_stop\n",
        "\n",
        "  def predict(self, X):\n",
        "    if self.init_weights:\n",
        "      return X.dot(self.weights) + self.bias\n",
        "    raise error(\"Fit me!\")\n",
        "\n",
        "  def fit(self, X, y):\n",
        "    self.weights = np.random.normal(size=(X.shape[1], 1))\n",
        "    self.bias = np.random.random()\n",
        "    self.init_weights = True\n",
        "    loss_fn_values = []\n",
        "    epochs = []\n",
        "    for epoch in range(self.n_iter):\n",
        "      np.random.seed(11)\n",
        "      samples_indexes = [np.random.randint(0, y.size) for _ in range(self.batch_size)]\n",
        "      X_batch, y_batch = X[samples_indexes, :], y[samples_indexes, :]\n",
        "\n",
        "      diff = (self.predict(X_batch) - y_batch)\n",
        "      grad = 2*X_batch.T.dot(diff)/y_batch.size\n",
        "      self.weights -= self.lr * grad\n",
        "      self.bias -= self.lr * diff.sum()/y_batch.size \n",
        "\n",
        "      loss_fn_values.append(loss_fn(self.predict(X_batch), y_batch))\n",
        "      epochs.append(epoch + 1)\n",
        "      try:\n",
        "        if abs(loss_fn_values[-1] - loss_fn_values[-2]) < self.thresh_to_stop:\n",
        "          break\n",
        "      except:\n",
        "        continue\n",
        "\n",
        "    show_loss_function(epochs, loss_fn_values)\n",
        "\n",
        "def loss_fn(y_true, y_pred):\n",
        "  assert y_true.shape == y_pred.shape\n",
        "  return ((y_true - y_pred)**2).sum() / y_true.size"
      ],
      "metadata": {
        "id": "veExZZZM1Sfn"
      },
      "execution_count": 244,
      "outputs": []
    },
    {
      "cell_type": "code",
      "source": [
        "model = MyLinearRegression(lr=10e-4, n_iter=10**4, batch_size=100, thresh_to_stop=10e-6)"
      ],
      "metadata": {
        "id": "WkY-2HNE1hjs"
      },
      "execution_count": 255,
      "outputs": []
    },
    {
      "cell_type": "code",
      "source": [
        "model.fit(X_train, y_train)"
      ],
      "metadata": {
        "colab": {
          "base_uri": "https://localhost:8080/",
          "height": 513
        },
        "id": "E1t_U0UA1hqF",
        "outputId": "8586fc2b-8a44-41e3-f8cc-61f2a91e77a2"
      },
      "execution_count": 256,
      "outputs": [
        {
          "output_type": "display_data",
          "data": {
            "text/plain": [
              "<Figure size 1152x576 with 1 Axes>"
            ],
            "image/png": "[encoded data removed]"
          },
          "metadata": {
            "needs_background": "light"
          }
        }
      ]
    },
    {
      "cell_type": "code",
      "source": [
        "print(f\"MSE with the train dataset: {loss_fn(model.predict(X_train), y_train)}\")\n",
        "print(f\"MSE with the test dataset: {loss_fn(model.predict(X_test), y_test)}\")"
      ],
      "metadata": {
        "colab": {
          "base_uri": "https://localhost:8080/"
        },
        "id": "wVnuBuPh1hrB",
        "outputId": "85629e28-d98a-4982-d21a-6121c201425f"
      },
      "execution_count": 257,
      "outputs": [
        {
          "output_type": "stream",
          "name": "stdout",
          "text": [
            "MSE with the train dataset: 0.47443892853442654\n",
            "MSE with the test dataset: 0.37264534891815926\n"
          ]
        }
      ]
    },
    {
      "cell_type": "markdown",
      "source": [
        "***Compare it with a classic algorithm from sklearn***"
      ],
      "metadata": {
        "id": "J00doiemHHuf"
      }
    },
    {
      "cell_type": "code",
      "source": [
        "sklearn_regression = LinearRegression()\n",
        "sklearn_regression.fit(X_train, y_train)\n",
        "\n",
        "print(f\"MSE with the train dataset for original model: {loss_fn(sklearn_regression.predict(X_train), y_train)}\")\n",
        "print(f\"MSE with the test dataset for original model: {loss_fn(sklearn_regression.predict(X_test), y_test)}\")"
      ],
      "metadata": {
        "colab": {
          "base_uri": "https://localhost:8080/"
        },
        "id": "F-KZPMBwHNa1",
        "outputId": "65f8aa55-ce47-46d4-d617-1baf7773aec8"
      },
      "execution_count": 258,
      "outputs": [
        {
          "output_type": "stream",
          "name": "stdout",
          "text": [
            "MSE with the train dataset for original model: 0.29088899662417167\n",
            "MSE with the test dataset for original model: 0.26261300339652643\n"
          ]
        }
      ]
    },
    {
      "cell_type": "markdown",
      "source": [
        "That's pretty worthy :)"
      ],
      "metadata": {
        "id": "VVIkdIChTjp_"
      }
    },
    {
      "cell_type": "markdown",
      "source": [
        "# Let's make a Ridgre regression!"
      ],
      "metadata": {
        "id": "JJW1Vc5j4AkG"
      }
    },
    {
      "cell_type": "code",
      "source": [
        "from zlib import error\n",
        "\n",
        "class RidgeRegression:\n",
        "  def __init__(self, lr=10e-8, n_iter=1, batch_size=1, thresh_to_stop=10e-3, alpha=0.1):\n",
        "    self.lr = lr\n",
        "    self.n_iter = n_iter\n",
        "    self.batch_size = batch_size\n",
        "    self.alpha = alpha\n",
        "    self.weights = None\n",
        "    self.bias = None\n",
        "    self.init_weights = False\n",
        "    self.thresh_to_stop = thresh_to_stop\n",
        "\n",
        "  def predict(self, X):\n",
        "    if self.init_weights:\n",
        "      return X.dot(self.weights) + self.bias\n",
        "    raise error(\"Fit me!\")\n",
        "\n",
        "  def fit(self, X, y):\n",
        "    self.weights = np.random.normal(size=(X.shape[1], 1))\n",
        "    self.bias = np.random.random()\n",
        "    self.init_weights = True\n",
        "    loss_fn_values = []\n",
        "    epochs = []\n",
        "    for epoch in range(self.n_iter):\n",
        "      np.random.seed(11)\n",
        "      samples_indexes = [np.random.randint(0, y.size) for _ in range(self.batch_size)]\n",
        "      X_batch, y_batch = X[samples_indexes, :], y[samples_indexes, :]\n",
        "\n",
        "      diff = (self.predict(X_batch) - y_batch)\n",
        "      grad = 2*X_batch.T.dot(diff)/y_batch.size + 2*self.alpha*self.weights\n",
        "      self.weights -= self.lr * grad\n",
        "      self.bias -= self.lr * diff.sum()/y_batch.size \n",
        "\n",
        "      loss_fn_values.append(loss_fn(self.predict(X_batch), y_batch) + self.alpha*(self.weights**2).sum() / y_batch.size)\n",
        "      epochs.append(epoch + 1)\n",
        "      try:\n",
        "        if abs(loss_fn_values[-1] - loss_fn_values[-2]) < self.thresh_to_stop:\n",
        "          break\n",
        "      except:\n",
        "        continue\n",
        "\n",
        "    show_loss_function(epochs, loss_fn_values)\n",
        "\n",
        "def loss_fn(y_true, y_pred):\n",
        "  assert y_true.shape == y_pred.shape\n",
        "  return ((y_true - y_pred)**2).sum() / y_true.size"
      ],
      "metadata": {
        "id": "p1TbslZt3G2B"
      },
      "execution_count": 259,
      "outputs": []
    },
    {
      "cell_type": "code",
      "source": [
        "model = RidgeRegression(lr=10e-3, n_iter=10**4, batch_size=100, thresh_to_stop=10e-5, alpha=0.1)"
      ],
      "metadata": {
        "id": "dFGFF1rY4Oln"
      },
      "execution_count": 264,
      "outputs": []
    },
    {
      "cell_type": "code",
      "source": [
        "model.fit(data, labels)"
      ],
      "metadata": {
        "colab": {
          "base_uri": "https://localhost:8080/",
          "height": 513
        },
        "id": "RK196kXm4QFD",
        "outputId": "102ee1f9-b53b-45b5-cdca-5c3ea73aba6d"
      },
      "execution_count": 265,
      "outputs": [
        {
          "output_type": "display_data",
          "data": {
            "text/plain": [
              "<Figure size 1152x576 with 1 Axes>"
            ],
            "image/png": "[encoded data removed]"
          },
          "metadata": {
            "needs_background": "light"
          }
        }
      ]
    },
    {
      "cell_type": "code",
      "source": [
        "print(f\"MSE with the train dataset: {loss_fn(model.predict(X_train), y_train)}\")\n",
        "print(f\"MSE with the test dataset: {loss_fn(model.predict(X_test), y_test)}\")"
      ],
      "metadata": {
        "colab": {
          "base_uri": "https://localhost:8080/"
        },
        "id": "pR6_howC4VTA",
        "outputId": "dac214f1-c884-436f-d848-80f817535dbf"
      },
      "execution_count": 266,
      "outputs": [
        {
          "output_type": "stream",
          "name": "stdout",
          "text": [
            "MSE with the train dataset: 0.38083170438946967\n",
            "MSE with the test dataset: 0.3799751734747001\n"
          ]
        }
      ]
    },
    {
      "cell_type": "markdown",
      "source": [
        "***In comparison with the classical one:***"
      ],
      "metadata": {
        "id": "hZuC-a2AIXfx"
      }
    },
    {
      "cell_type": "code",
      "source": [
        "sklearn_ridge = Ridge(alpha=0.1)\n",
        "sklearn_ridge.fit(X_train, y_train)\n",
        "print(f\"MSE with the train dataset: {loss_fn(sklearn_ridge.predict(X_train), y_train)}\")\n",
        "print(f\"MSE with the test dataset: {loss_fn(sklearn_ridge.predict(X_test), y_test)}\")"
      ],
      "metadata": {
        "colab": {
          "base_uri": "https://localhost:8080/"
        },
        "id": "UZAKNwVQIW1A",
        "outputId": "4745e6b2-0354-4f4b-ed99-cd756ff45ebf"
      },
      "execution_count": 267,
      "outputs": [
        {
          "output_type": "stream",
          "name": "stdout",
          "text": [
            "MSE with the train dataset: 0.2908890281742595\n",
            "MSE with the test dataset: 0.2626074028533392\n"
          ]
        }
      ]
    },
    {
      "cell_type": "markdown",
      "source": [
        "And again\n",
        "\n",
        "P.S. I presume, that a little magic with hyperparameters may make my model's result even better in comparison with the original one, but I'm gonna take it easy now. I bet we will play with hyperparameters adjusting in the future"
      ],
      "metadata": {
        "id": "VCtqLIKnTsbe"
      }
    },
    {
      "cell_type": "markdown",
      "source": [
        "# Logistic Regression implementation"
      ],
      "metadata": {
        "id": "ZhZvLguO8SPh"
      }
    },
    {
      "cell_type": "code",
      "source": [
        "from sklearn.datasets import load_breast_cancer\n",
        "data = load_breast_cancer()\n",
        "data, labels = data[\"data\"], data[\"target\"]\n",
        "transformer = StandardScaler()\n",
        "data = transformer.fit_transform(data)\n",
        "labels = labels.reshape(-1, 1)\n",
        "X_train, X_test, y_train, y_test = train_test_split(data, labels, train_size=0.8)"
      ],
      "metadata": {
        "id": "5nKOZI0n6zR4"
      },
      "execution_count": 268,
      "outputs": []
    },
    {
      "cell_type": "markdown",
      "source": [
        "Use the most superficial activation function - Sigmoid"
      ],
      "metadata": {
        "id": "15efFKev-Voi"
      }
    },
    {
      "cell_type": "code",
      "source": [
        "from zlib import error\n",
        "\n",
        "def sigmoid(x):\n",
        "    return 1 / (1 + np.exp(-x))  \n",
        "\n",
        "class MyLogisticRegression:\n",
        "  def __init__(self, lr=10e-8, n_iter=1, batch_size=1, thresh_to_stop=10e-3, alpha=0.1):\n",
        "    self.lr = lr\n",
        "    self.n_iter = n_iter\n",
        "    self.batch_size = batch_size\n",
        "    self.alpha = alpha\n",
        "    self.weights = None\n",
        "    self.bias = None\n",
        "    self.init_weights = False\n",
        "    self.thresh_to_stop = thresh_to_stop\n",
        "\n",
        "  def predict(self, X):\n",
        "    if self.init_weights:\n",
        "      return np.apply_along_axis(sigmoid, 1, X.dot(self.weights) + self.bias)\n",
        "    raise error(\"Fit me!\")\n",
        "\n",
        "  def fit(self, X, y):\n",
        "    self.weights = np.random.normal(size=(X.shape[1], 1))\n",
        "    self.bias = np.random.random()\n",
        "    self.init_weights = True\n",
        "    loss_fn_values = []\n",
        "    epochs = []\n",
        "    for epoch in range(self.n_iter):\n",
        "      np.random.seed(11)\n",
        "      samples_indexes = [np.random.randint(0, y.size) for _ in range(self.batch_size)]\n",
        "      X_batch, y_batch = X[samples_indexes, :], y[samples_indexes, :]\n",
        "\n",
        "      diff = (self.predict(X_batch) - y_batch)\n",
        "      grad = X_batch.T.dot(diff) + 2*self.alpha*self.weights\n",
        "      self.weights -= self.lr * grad\n",
        "      self.bias -= self.lr * diff.sum()\n",
        "\n",
        "      loss_fn_values.append(loss_fn(self.predict(X_batch), y_batch) + self.alpha*(self.weights**2).sum() / y_batch.size)\n",
        "      epochs.append(epoch + 1)\n",
        "      try:\n",
        "        if abs(loss_fn_values[-1] - loss_fn_values[-2]) < self.thresh_to_stop:\n",
        "          break\n",
        "      except:\n",
        "        continue\n",
        "\n",
        "    show_loss_function(epochs, loss_fn_values)\n",
        "\n",
        "def loss_fn(y_true, y_pred):\n",
        "  assert y_true.shape == y_pred.shape\n",
        "  y_true = y_true.reshape(-1)\n",
        "  y_pred = y_pred.reshape(-1)\n",
        "  n_samples = y_true.size\n",
        "  eps = 10e-6\n",
        "  logloss = 0\n",
        "  for pred, true in zip(y_pred, y_true):\n",
        "    logloss += -(true*np.log2(pred + eps) + (1 - true)*np.log2(1 - pred + eps))\n",
        "  return logloss / n_samples"
      ],
      "metadata": {
        "id": "KGvTNLNj-Ffx"
      },
      "execution_count": 269,
      "outputs": []
    },
    {
      "cell_type": "code",
      "source": [
        "model = MyLogisticRegression(lr=10e-4, n_iter=10**4, batch_size=512, thresh_to_stop=10e-6, alpha=0.1)"
      ],
      "metadata": {
        "id": "KxeLpSbECkZd"
      },
      "execution_count": 297,
      "outputs": []
    },
    {
      "cell_type": "markdown",
      "source": [
        "Utterly stochastically"
      ],
      "metadata": {
        "id": "SzmMsPTzMGF1"
      }
    },
    {
      "cell_type": "code",
      "source": [
        "model.fit(X_train, y_train)"
      ],
      "metadata": {
        "colab": {
          "base_uri": "https://localhost:8080/",
          "height": 513
        },
        "id": "Ym5H44LvCurf",
        "outputId": "ee7a01ba-9178-468c-b562-33cfd1d703e7"
      },
      "execution_count": 298,
      "outputs": [
        {
          "output_type": "display_data",
          "data": {
            "text/plain": [
              "<Figure size 1152x576 with 1 Axes>"
            ],
            "image/png": "[encoded data removed]"
          },
          "metadata": {
            "needs_background": "light"
          }
        }
      ]
    },
    {
      "cell_type": "code",
      "source": [
        "print(f\"MSE with the train dataset: {loss_fn(model.predict(X_train), y_train)}\")\n",
        "print(f\"MSE with the test dataset: {loss_fn(model.predict(X_test), y_test)}\")"
      ],
      "metadata": {
        "colab": {
          "base_uri": "https://localhost:8080/"
        },
        "id": "LQ69nAsHGzq8",
        "outputId": "9e5a8add-0b51-43fe-be59-919fa4bf298f"
      },
      "execution_count": 299,
      "outputs": [
        {
          "output_type": "stream",
          "name": "stdout",
          "text": [
            "MSE with the train dataset: 0.4974725830449757\n",
            "MSE with the test dataset: 0.5632931197337533\n"
          ]
        }
      ]
    },
    {
      "cell_type": "markdown",
      "source": [
        "***Let's take a look at the original model:***"
      ],
      "metadata": {
        "id": "vgcsDC6kNjW2"
      }
    },
    {
      "cell_type": "code",
      "source": [
        "sklearn_logreg = LogisticRegression(penalty='l2', C=0.1)\n",
        "sklearn_logreg.fit(X_train, y_train.ravel())\n",
        "\n",
        "print(f\"MSE with the train dataset: {loss_fn(sklearn_logreg.predict(X_train).reshape(-1, 1), y_train)}\")\n",
        "print(f\"MSE with the test dataset: {loss_fn(sklearn_logreg.predict(X_test).reshape(-1, 1), y_test)}\")"
      ],
      "metadata": {
        "colab": {
          "base_uri": "https://localhost:8080/"
        },
        "id": "HVkqzQhsNSE2",
        "outputId": "bde04f25-3bc4-4d88-d89f-94f8e96e02fa"
      },
      "execution_count": 296,
      "outputs": [
        {
          "output_type": "stream",
          "name": "stdout",
          "text": [
            "MSE with the train dataset: 0.29202346149649405\n",
            "MSE with the test dataset: 0.2913830275307623\n"
          ]
        }
      ]
    },
    {
      "cell_type": "markdown",
      "source": [
        "I didn't get, how to set random in numpy for numbers generation, so I made it kinda silly))\n",
        "\n",
        "I also perhaps made a couple of mistakes with gradients computing, but these models work adequately, so I decided not to upgrade it further"
      ],
      "metadata": {
        "id": "JW5976eYNjZl"
      }
    },
    {
      "cell_type": "markdown",
      "source": [
        "# Thanks for your attention!\n",
        "\n",
        "![Хомячок](https://www.meme-arsenal.com/memes/093158ff9bd8ed16cfa7ed7167c96ecb.jpg)\n"
      ],
      "metadata": {
        "id": "EJ11Gm8aV0UC"
      }
    },
    {
      "cell_type": "code",
      "source": [
        ""
      ],
      "metadata": {
        "id": "iX1pgc7RV2pO"
      },
      "execution_count": null,
      "outputs": []
    }
  ]
}